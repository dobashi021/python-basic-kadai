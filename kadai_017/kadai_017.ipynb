{
  "nbformat": 4,
  "nbformat_minor": 0,
  "metadata": {
    "colab": {
      "provenance": []
    },
    "kernelspec": {
      "name": "python3",
      "display_name": "Python 3"
    },
    "language_info": {
      "name": "python"
    }
  },
  "cells": [
    {
      "cell_type": "code",
      "execution_count": 7,
      "metadata": {
        "colab": {
          "base_uri": "https://localhost:8080/"
        },
        "id": "TU-GZuG6zcyy",
        "outputId": "a71364bc-7e41-4beb-9e78-1de14c2943dc"
      },
      "outputs": [
        {
          "output_type": "stream",
          "name": "stdout",
          "text": [
            "侍太郎は20歳未満です。\n",
            "侍花子は20歳未満です。\n",
            "侍良子は大人です。\n",
            "侍次郎は大人です。\n",
            "侍文江は大人です。\n"
          ]
        }
      ],
      "source": [
        "# 人の名前と年齢を格納したディクショナリ(連想配列(ages_dict))を設定\n",
        "ages_dict = {\"侍太郎\": 16, \"侍花子\": 17, \"侍良子\":20,\"侍次郎\":23,\"侍文江\":54,}\n",
        "\n",
        "class Human:\n",
        "    # Humanクラスの初期化\n",
        "    def __init__(self, name, age):\n",
        "        self.name = name\n",
        "        self.age = age\n",
        "\n",
        "    # 年齢が20歳未満かそうでないかをチェックし、結果を出力する\n",
        "    def check_adult(self):\n",
        "        if self.age < 20:\n",
        "            print(f\"{self.name}は20歳未満です。\")\n",
        "        else:\n",
        "            print(f\"{self.name}は大人です。\")\n",
        "\n",
        "# ディクショナリ(連想配列(ages_dict))内の人物が、Humanクラスのインスタンスを作成して成人かそうでないかをチェックする\n",
        "for name, age in ages_dict.items():\n",
        "    human = Human(name, age)\n",
        "    human.check_adult()\n"
      ]
    }
  ]
}