{
  "nbformat": 4,
  "nbformat_minor": 0,
  "metadata": {
    "colab": {
      "provenance": []
    },
    "kernelspec": {
      "name": "python3",
      "display_name": "Python 3"
    },
    "language_info": {
      "name": "python"
    }
  },
  "cells": [
    {
      "cell_type": "code",
      "execution_count": null,
      "metadata": {
        "id": "elpJPDlYfvb5"
      },
      "outputs": [],
      "source": []
    },
    {
      "cell_type": "code",
      "source": [
        "#「array」という名前のリストを設定\n",
        "array = [\"月曜日は晴れです\", \"火曜日は雨です\", \"水曜日は晴れです\", \"木曜日は晴れです\", \"金曜日は曇りです\",\"土曜日は曇りのち雨です\",\"日曜日は雷雨です\"]\n",
        "\n",
        "# 「dictionary」という名前の配列を設定\n",
        "dictionary ={\"mon\": \"晴れ\", \"tue\": \"雨\", \"wed\":\"晴れ\",\"thu\": \"晴れ\",\"fri\": \"曇り\",\"sat\":\"曇りのち雨\",\"sun\": \"雷雨\"}\n",
        "\n",
        "#arrayから、水曜日の天気予報を取り出して出力\n",
        "print(array[2])\n",
        "\n",
        "#dictionaryから水曜日の天気予報を取り出して出力\n",
        "print(f\"水曜日は{dictionary['wed']}です\")\n",
        "\n",
        "\n",
        "\n",
        "\n"
      ],
      "metadata": {
        "colab": {
          "base_uri": "https://localhost:8080/"
        },
        "id": "xtJE58bcf8bg",
        "outputId": "8f9dccbf-5ec1-4d17-af1e-df4c17cc8de0"
      },
      "execution_count": 4,
      "outputs": [
        {
          "output_type": "stream",
          "name": "stdout",
          "text": [
            "水曜日は晴れです\n",
            "水曜日は晴れです\n"
          ]
        }
      ]
    }
  ]
}