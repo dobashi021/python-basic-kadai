{
  "nbformat": 4,
  "nbformat_minor": 0,
  "metadata": {
    "colab": {
      "provenance": []
    },
    "kernelspec": {
      "name": "python3",
      "display_name": "Python 3"
    },
    "language_info": {
      "name": "python"
    }
  },
  "cells": [
    {
      "cell_type": "code",
      "execution_count": 6,
      "metadata": {
        "colab": {
          "base_uri": "https://localhost:8080/"
        },
        "id": "Xdb0CSI13BSq",
        "outputId": "973ba349-96bb-4c88-c026-31fc690558d2"
      },
      "outputs": [
        {
          "output_type": "execute_result",
          "data": {
            "text/plain": [
              "1080.0"
            ]
          },
          "metadata": {},
          "execution_count": 6
        }
      ],
      "source": [
        "def total_price(price,tax):\n",
        "    # 消費税額を算出\n",
        "    tax_amount = price * (tax / 100)\n",
        "    # 税込み価格を算出\n",
        "    total_price = price + tax_amount\n",
        "    return total_price\n",
        "total_price(1000, 8)"
      ]
    }
  ]
}