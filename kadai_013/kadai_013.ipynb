{
  "nbformat": 4,
  "nbformat_minor": 0,
  "metadata": {
    "colab": {
      "provenance": []
    },
    "kernelspec": {
      "name": "python3",
      "display_name": "Python 3"
    },
    "language_info": {
      "name": "python"
    }
  },
  "cells": [
    {
      "cell_type": "code",
      "execution_count": 32,
      "metadata": {
        "colab": {
          "base_uri": "https://localhost:8080/"
        },
        "id": "Xdb0CSI13BSq",
        "outputId": "58296eb3-f23c-4653-a17f-851619f80194"
      },
      "outputs": [
        {
          "output_type": "stream",
          "name": "stdout",
          "text": [
            "1520円 (税込み:1672.0)円\n"
          ]
        }
      ],
      "source": [
        "def total_price(price,tax):\n",
        "    # 消費税額を算出\n",
        "    tax_amount = price * (tax / 100)\n",
        "    # 税込み価格を算出\n",
        "    total_price = price + tax_amount\n",
        "\n",
        "    print(f\"{price}円 (税込み:{total_price})円\")\n",
        "\n",
        "total_price(1520, 10)"
      ]
    }
  ]
}