{
  "nbformat": 4,
  "nbformat_minor": 0,
  "metadata": {
    "colab": {
      "provenance": []
    },
    "kernelspec": {
      "name": "python3",
      "display_name": "Python 3"
    },
    "language_info": {
      "name": "python"
    }
  },
  "cells": [
    {
      "cell_type": "code",
      "execution_count": null,
      "metadata": {
        "id": "M7biXNqnizgb"
      },
      "outputs": [],
      "source": [
        "# 変数varに正の整数を代入する\n",
        "var = input(\"何か数値を入力してください:\")\n",
        "var = int(var)\n",
        "# 変数varが、3の倍数と5の倍数の両方に該当する場合は「FizzBuzz」を出力\n",
        "if var % 3 == 0 and var % 5 == 0:\n",
        "  print(\"FizzBuzz\")\n",
        "# 変数varが、3の倍数の場合は「Fizz」を出力\n",
        "elif var % 3 == 0:\n",
        "  print(\"Fizz\")\n",
        "# 変数varが、5の倍数の場合は「Buzz」を出力\n",
        "elif var % 5 == 0:\n",
        "  print(\"Buzz\")\n",
        "\n",
        "#上記のどの場合にも該当しない場合は、変数varの値を出力\n",
        "else:\n",
        "  print(var)"
      ]
    }
  ]
}