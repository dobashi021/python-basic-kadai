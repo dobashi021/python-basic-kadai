{
  "nbformat": 4,
  "nbformat_minor": 0,
  "metadata": {
    "colab": {
      "provenance": []
    },
    "kernelspec": {
      "name": "python3",
      "display_name": "Python 3"
    },
    "language_info": {
      "name": "python"
    }
  },
  "cells": [
    {
      "cell_type": "code",
      "execution_count": 1,
      "metadata": {
        "colab": {
          "base_uri": "https://localhost:8080/"
        },
        "id": "qobpQCinyGiO",
        "outputId": "d1b40a23-9f23-4a71-ef58-da14aed7380b"
      },
      "outputs": [
        {
          "output_type": "stream",
          "name": "stdout",
          "text": [
            "名前 侍太郎\n",
            "年齢 34\n"
          ]
        }
      ],
      "source": [
        "class Human:\n",
        "  def __init__(self, name ,age):\n",
        "    self.name = name\n",
        "    self.age = age\n",
        "\n",
        "  def set_name(self, name):\n",
        "    self.name = name\n",
        "  def set_age(self,age):\n",
        "    self.age = age\n",
        "\n",
        "  #printinfoメソッドを定義\n",
        "  def printinfo(self):\n",
        "    print(\"名前\", self.name)\n",
        "    print(\"年齢\", self.age)\n",
        "\n",
        "#インスタンス化する\n",
        "human = Human(\"侍太郎\", 34)\n",
        "\n",
        "# printinfoメソッドにアクセスし値を出力\n",
        "human.printinfo()"
      ]
    }
  ]
}