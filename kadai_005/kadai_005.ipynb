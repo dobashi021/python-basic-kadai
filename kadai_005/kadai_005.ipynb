{
  "nbformat": 4,
  "nbformat_minor": 0,
  "metadata": {
    "colab": {
      "provenance": []
    },
    "kernelspec": {
      "name": "python3",
      "display_name": "Python 3"
    },
    "language_info": {
      "name": "python"
    }
  },
  "cells": [
    {
      "cell_type": "code",
      "execution_count": 2,
      "metadata": {
        "colab": {
          "base_uri": "https://localhost:8080/"
        },
        "id": "hE6bAxRbFuHh",
        "outputId": "35e90fbd-1435-4e69-bca1-91dbd19ea2db"
      },
      "outputs": [
        {
          "output_type": "stream",
          "name": "stdout",
          "text": [
            "75.0㎠\n"
          ]
        }
      ],
      "source": [
        "# 台形の面積の計算\n",
        "\n",
        "#上辺\n",
        "top_side = 10\n",
        "#下辺\n",
        "bottom_side = 20\n",
        "#高さ\n",
        "hight = 5\n",
        "\n",
        "#台形の面積を計算し、戻り値をareaとする\n",
        "#公式：台形の面積 =（上辺＋下辺）× 高さ ÷ 2\n",
        "area= (int(top_side) + int(bottom_side)) * int(hight) / 2\n",
        "\n",
        "#面積の結果\n",
        "print(f\"{area}㎠\")"
      ]
    }
  ]
}