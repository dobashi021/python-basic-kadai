{
  "nbformat": 4,
  "nbformat_minor": 0,
  "metadata": {
    "colab": {
      "provenance": []
    },
    "kernelspec": {
      "name": "python3",
      "display_name": "Python 3"
    },
    "language_info": {
      "name": "python"
    }
  },
  "cells": [
    {
      "cell_type": "code",
      "execution_count": 12,
      "metadata": {
        "colab": {
          "base_uri": "https://localhost:8080/"
        },
        "id": "nDf4bQgVS3HF",
        "outputId": "daaf8cea-29b7-4cb3-a226-da114aeab4ab"
      },
      "outputs": [
        {
          "output_type": "stream",
          "name": "stdout",
          "text": [
            "75.0cm2\n"
          ]
        }
      ],
      "source": [
        "# 台形の面積の計算\n",
        "\n",
        "#上辺\n",
        "top_side = 10\n",
        "#下辺\n",
        "bottom_side = 20\n",
        "#高さ\n",
        "hight = 5\n",
        "\n",
        "#台形の面積を計算し、戻り値をareaとする\n",
        "#公式：台形の面積 =（上辺＋下辺）× 高さ ÷ 2\n",
        "area= (int(top_side) + int(bottom_side)) * int(hight) / 2\n",
        "\n",
        "#面積の結果\n",
        "print(f\"{area}cm2\")\n"
      ]
    }
  ]
}